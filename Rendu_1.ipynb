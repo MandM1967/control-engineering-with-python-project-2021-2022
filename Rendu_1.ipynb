{
  "cells": [
    {
      "cell_type": "code",
      "execution_count": 85,
      "metadata": {
        "id": "0lBOfF1K-5k-"
      },
      "outputs": [],
      "source": [
        "from numpy import *\n",
        "from numpy.linalg import *\n",
        "\n",
        "from scipy.integrate import *\n",
        "from scipy.signal import *\n",
        "\n",
        "from matplotlib.pyplot import *"
      ]
    },
    {
      "cell_type": "markdown",
      "metadata": {
        "id": "6tJ4G_gz-5lD"
      },
      "source": [
        "Chariot Model\n",
        "==============\n",
        "\n",
        "We consider a mobile robot of \"chariot\" type, evolving in the plane.\n",
        "\n",
        "  - From above, its frame appears to be a disk of diameter $D$. \n",
        "  \n",
        "  - It has two fixed wheels (their orientation with respect to the frame does not change; there is no need for a steering wheel!). They are parallel and located at opposite ends of the frame (hence separated by a distance of $D$) ; these wheels have the common radius $R$.\n",
        "\n",
        "  - The robot is symmetric with respect to the axis that joins the two wheels. For convenience, a green sticker is attached at the boundary of the frame on one side of this axis, on the robot axis of symmetry ; this side will is called the \"front\" of the robot, the point itself is called the \"nose\" of the robot. When we talk about the \"left wheel\" or the \"right wheel\", we assume that we are looking towards the front of the robot.\n",
        "\n",
        "We will denote \n",
        "\n",
        "  - $(x, y)$ the coordinates of the wheel axis in the orthonormal and direct frame $(0, e_x, e_y)$ of the plane.\n",
        "  \n",
        "  - $\\theta$ the angle of the wheels direction with respect to vector $e_x$ ; with $\\theta = 0$ when the front of the robot faces the right ($e_x$) and $\\theta = \\pi/2$ when he faces upwards ($e_y$).\n",
        "\n",
        "  - $\\phi_l$ and $\\phi_r$ the rotation angles of the left and right wheel respectively ; by convention, when these angles increase, the robot moves forward."
      ]
    },
    {
      "cell_type": "markdown",
      "metadata": {
        "id": "Em7RcXfi-5lH"
      },
      "source": [
        "### Parameter Definition\n",
        "\n",
        "\n",
        "From now on, we assume that the frame diameter is $D = 1 \\mbox{ m}$ and the wheel radius is $R = 10 \\mbox{ cm}$.\n",
        "\n",
        "🧩 Define the corresponding Python variables `D` and `R` (express every length in meters, and more generally in the sequel, always use the [international standard of units](https://en.wikipedia.org/wiki/SI_derived_unit)) for numerical values. "
      ]
    },
    {
      "cell_type": "code",
      "execution_count": 2,
      "metadata": {
        "id": "90eHSQdl-5lI"
      },
      "outputs": [],
      "source": [
        "D=1\n",
        "R=0.1"
      ]
    },
    {
      "cell_type": "markdown",
      "metadata": {
        "id": "4CrZiYOr-5lJ"
      },
      "source": [
        "### Graphical Representation\n",
        "\n",
        "🧩 Implement a function `draw_robot` with arguments `x`, `y` and `theta` that draws the robot in the plane (top view) for arbitrary values of $(x, y)$ and $\\theta$. Represent the robot frame as a circle, the wheels as lines and the nose as an orange point.\n",
        "\n",
        "🗝️ **Hint.** Use the function `plot` of `matplotlib.pyplot`."
      ]
    },
    {
      "cell_type": "code",
      "execution_count": 99,
      "metadata": {
        "id": "O3jRrS_V-5lJ"
      },
      "outputs": [],
      "source": [
        "import matplotlib.pyplot as plt\n",
        "\n",
        "def draw_robot(x, y, theta):\n",
        "  \n",
        "  circle = plt.Circle((x, y), radius=D/2, Fill=False)\n",
        "  plt.gca().add_patch(circle)\n",
        "  plt.plot(x+(D/2)*np.cos(theta),y+(D/2)*np.sin(theta),marker=\"o\", markersize=10,markerfacecolor=\"orange\")\n",
        "  plt.plot([x+(D/2)*np.sin(theta)-R*np.cos(theta), x+(D/2)*np.sin(theta)+R*np.cos(theta)], [y-(D/2)*np.cos(theta)-R*np.sin(theta), y-(D/2)*np.cos(theta)+R*np.sin(theta)], 'r-', lw=2)\n",
        "  plt.plot([x-(D/2)*np.sin(theta)-R*np.cos(theta), x-(D/2)*np.sin(theta)+R*np.cos(theta)], [y+(D/2)*np.cos(theta)-R*np.sin(theta), y+(D/2)*np.cos(theta)+R*np.sin(theta)], 'r-', lw=2)"
      ]
    },
    {
      "cell_type": "markdown",
      "metadata": {
        "id": "odeqasl--5lK"
      },
      "source": [
        "🧩 Represent the robot in when $(x, y, \\theta) = (0, 0, 0), (2, 2, \\pi/2), (0, 4, -\\pi), (-4, 4, -\\pi), (-8, 4, -\\pi)$.\n",
        "\n",
        "🗝️ **Hint.** Use the following `draw_arena` function beforehand."
      ]
    },
    {
      "cell_type": "code",
      "execution_count": 87,
      "metadata": {
        "id": "o8hJ0Z9a-5lL"
      },
      "outputs": [],
      "source": [
        "def draw_arena(xmin=-12, xmax=12, ymin=-9, ymax=9):\n",
        "    wh_ratio = (xmax - xmin) / (ymax - ymin)\n",
        "    figsize = fig_width, fig_height = 16, 16 / wh_ratio\n",
        "    figure(figsize=figsize)\n",
        "    axes = gca()\n",
        "    axes.axis([xmin, xmax, ymin, ymax])\n",
        "    axes.set_aspect(1)\n",
        "    xticks(arange(xmin, xmax+1, 1))\n",
        "    yticks(arange(ymin, ymax+1, 1))\n",
        "    grid(True)\n",
        "    plot([xmin, xmax], [0, 0], linestyle=\"-\", color=\"grey\")\n",
        "    plot([0, 0], [ymin, ymax], linestyle=\"-\", color=\"grey\")"
      ]
    },
    {
      "cell_type": "code",
      "execution_count": 109,
      "metadata": {
        "colab": {
          "base_uri": "https://localhost:8080/",
          "height": 704
        },
        "id": "2gcvaTpY-5lM",
        "outputId": "227f70a2-68c7-4bb2-f60f-ab0ad679570d"
      },
      "outputs": [
        {
          "output_type": "display_data",
          "data": {
            "text/plain": [
              "<Figure size 1152x864 with 1 Axes>"
            ],
            "image/png": "[encoded data removed]"
          },
          "metadata": {
            "needs_background": "light"
          }
        }
      ],
      "source": [
        "import numpy as np\n",
        "\n",
        "draw_arena()\n",
        "draw_robot(0,0, 0)\n",
        "draw_robot(2,2,np.pi/2)\n",
        "draw_robot(0,4,-np.pi)\n",
        "draw_robot(-4,4,-np.pi)\n",
        "draw_robot(-8,4,-np.pi)"
      ]
    },
    {
      "cell_type": "markdown",
      "metadata": {
        "id": "ifB9Pko_-5lN"
      },
      "source": [
        "### Kinematic Modeling\n",
        "\n",
        "We assume that we can control the wheels angular velocities $\\omega_l = \\dot{\\phi}_l$ and $\\omega_r = \\dot{\\phi}_r$ (this is a *kinematic* model of the robot).\n",
        "We also assume that the chariot wheels roll without slipping. \n",
        "\n",
        "🧩 Establish the differential equations that relate $\\dot{x}$,\n",
        "$\\dot{y}$ and $\\dot{\\theta}$ with $\\omega_l$ and $\\omega_r$."
      ]
    },
    {
      "cell_type": "markdown",
      "metadata": {
        "id": "GetpJ5pq-5lO"
      },
      "source": [
        "**Answer:**\n",
        "\n",
        "Les vitesses linéaires de chaque roue s’expriment : \n",
        "\\begin{align}\n",
        "\\ v_l=R\\cdot\\omega_l \\\\\n",
        "\\ v_r=R\\cdot\\omega_r \\\\\n",
        "\\end{align}\n",
        "\n",
        "La vitesse linéaire du chariot : \n",
        "\\begin{equation*}\n",
        "\\ v_{Chariot}=\\frac{\\ v_l+\\ v_r}{2} \\\\\n",
        "\\end{equation*}\n"
      ]
    },
    {
      "cell_type": "markdown",
      "metadata": {
        "id": "Lnz9wO4r-5lP"
      },
      "source": [
        "### Analysis\n",
        "\n",
        "🧩 Show that if $\\omega_l$ and $\\omega_r$ are continuously differentiable functions of $(x, y, \\theta)$ (which includes the case of constant inputs), this system is well-posed."
      ]
    },
    {
      "cell_type": "markdown",
      "metadata": {
        "id": "WTX5G_nN-5lP"
      },
      "source": [
        "**Answer:**"
      ]
    },
    {
      "cell_type": "markdown",
      "metadata": {
        "id": "EMfekd-n-5lP"
      },
      "source": [
        "🧩 Show that if $\\omega_l$ and $\\omega_r$ are constants, the maximal solution associated to any initial state is global. Is is still true of $\\omega_l$ and $\\omega_r$ are arbitrary continuously differentiable functions of $(x, y, \\theta)$ ?"
      ]
    },
    {
      "cell_type": "markdown",
      "metadata": {
        "id": "5Utg6ITe-5lQ"
      },
      "source": [
        "**Answer:**"
      ]
    },
    {
      "cell_type": "markdown",
      "metadata": {
        "id": "I0GfXGsg-5lQ"
      },
      "source": [
        "### Vector Field\n",
        "\n",
        "In the sequel, `omega` is a function that computes the input vector $\\omega := (\\omega_l, \\omega_r)$ given the time $t$ and $(x, y, \\theta)$ (thus, it may depend on the time and/or on the system state if needed). For example:"
      ]
    },
    {
      "cell_type": "code",
      "execution_count": null,
      "metadata": {
        "id": "K6t4PuX_-5lQ"
      },
      "outputs": [],
      "source": [
        "def omega(t, xytheta):\n",
        "    omega_l = 7.5 * pi\n",
        "    omega_r = 12.5 * pi\n",
        "    return array([omega_l, omega_r])"
      ]
    },
    {
      "cell_type": "markdown",
      "metadata": {
        "id": "6wBD9bU5-5lR"
      },
      "source": [
        "🧩 Implement a function `fun(t, xytheta)` that computes $(\\dot{x}, \\dot{y}, \\dot{\\theta})$ given the time $t$, $(x,y,\\theta)$ (and  -- implicitly -- the inputs $\\omega$ computed by the function `omega`)."
      ]
    },
    {
      "cell_type": "code",
      "execution_count": null,
      "metadata": {
        "id": "8yq9C5iy-5lR"
      },
      "outputs": [],
      "source": [
        "def fun(t, xytheta):\n",
        "    pass"
      ]
    },
    {
      "cell_type": "markdown",
      "metadata": {
        "id": "xiCIx7FU-5lS"
      },
      "source": [
        "### Simulation Setup\n",
        "\n",
        "🧩 Simulate the robot dynamics for 4 seconds when $(x_0, y_0, \\theta_0)(t=0) = (0.0, 0.0, 0.0)$,\n",
        "and the wheels velocities are the constants $\\omega_l = 7.5 \\pi$ and $\\omega_r = 12.5 \\pi$.\n",
        "(Compute the dense outputs.)\n",
        "   "
      ]
    },
    {
      "cell_type": "code",
      "execution_count": null,
      "metadata": {
        "id": "bnc8rLKj-5lS"
      },
      "outputs": [],
      "source": [
        "pass"
      ]
    },
    {
      "cell_type": "markdown",
      "metadata": {
        "id": "ajtkT5UH-5lS"
      },
      "source": [
        "🧩 Use the simulation results to draw the graphs of $x(t)$, $y(t)$ and $\\theta(t)$."
      ]
    },
    {
      "cell_type": "code",
      "execution_count": null,
      "metadata": {
        "id": "b5T0pGPH-5lT"
      },
      "outputs": [],
      "source": [
        "pass"
      ]
    },
    {
      "cell_type": "markdown",
      "metadata": {
        "id": "p84jIcKm-5lT"
      },
      "source": [
        "🧩 Use the simulation results to display the robot location every 0.5 second."
      ]
    },
    {
      "cell_type": "code",
      "execution_count": null,
      "metadata": {
        "id": "RIw4udkk-5lT"
      },
      "outputs": [],
      "source": [
        "pass"
      ]
    },
    {
      "cell_type": "markdown",
      "metadata": {
        "id": "9TzzaZFf-5lT"
      },
      "source": [
        "🧩 What should be the analytical expression of $x(t)$, $y(t)$ and $\\theta(t)$? "
      ]
    },
    {
      "cell_type": "markdown",
      "metadata": {
        "id": "hMhOizZ5-5lU"
      },
      "source": [
        "**Answer:**"
      ]
    },
    {
      "cell_type": "markdown",
      "metadata": {
        "id": "byzrXshP-5lU"
      },
      "source": [
        "🧩 Do your experimental results match the theoretical results ? Draw the curves of the simulation error at time $t$ for $x$, $y$ and $\\theta$."
      ]
    },
    {
      "cell_type": "code",
      "execution_count": null,
      "metadata": {
        "id": "e1W1wP_0-5lU"
      },
      "outputs": [],
      "source": [
        "pass"
      ]
    },
    {
      "cell_type": "markdown",
      "metadata": {
        "id": "si_pbMUy-5lU"
      },
      "source": [
        "🧩 If needed, adjust the simulation parameters until this error is uniformly less than $1e-5$ for each variable."
      ]
    },
    {
      "cell_type": "code",
      "execution_count": null,
      "metadata": {
        "id": "FmsMJpde-5lU"
      },
      "outputs": [],
      "source": [
        "pass"
      ]
    }
  ],
  "metadata": {
    "kernelspec": {
      "display_name": "Python 3 (ipykernel)",
      "language": "python",
      "name": "python3"
    },
    "language_info": {
      "codemirror_mode": {
        "name": "ipython",
        "version": 3
      },
      "file_extension": ".py",
      "mimetype": "text/x-python",
      "name": "python",
      "nbconvert_exporter": "python",
      "pygments_lexer": "ipython3",
      "version": "3.9.10"
    },
    "colab": {
      "name": "Project - Step 1.ipynb",
      "provenance": []
    }
  },
  "nbformat": 4,
  "nbformat_minor": 0
}